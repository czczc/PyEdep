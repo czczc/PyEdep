{
 "cells": [
  {
   "cell_type": "code",
   "execution_count": 1,
   "metadata": {},
   "outputs": [
    {
     "name": "stdout",
     "output_type": "stream",
     "text": [
      "Welcome to JupyROOT 6.28/06\n"
     ]
    }
   ],
   "source": [
    "from event import Event\n",
    "from plotter import Plotter\n",
    "%matplotlib inline"
   ]
  },
  {
   "cell_type": "code",
   "execution_count": 2,
   "metadata": {},
   "outputs": [
    {
     "name": "stdout",
     "output_type": "stream",
     "text": [
      "reading event 0/1000\n"
     ]
    }
   ],
   "source": [
    "event = Event(\"../data/Genie_Edepsim_noSecondaryDeposit/numu/edep_numu_1.5GeV_1kevts.root\")\n",
    "p = Plotter(event)"
   ]
  },
  {
   "cell_type": "code",
   "execution_count": null,
   "metadata": {},
   "outputs": [],
   "source": [
    "p.Next()\n",
    "p.Draw('yz', cmap='jet', vmax=2000)\n",
    "p.Draw('yz', cmap='jet', value='charge')\n",
    "p.hist_dqdx()"
   ]
  },
  {
   "cell_type": "code",
   "execution_count": null,
   "metadata": {},
   "outputs": [],
   "source": [
    "event.PrintTrack(71)"
   ]
  },
  {
   "cell_type": "code",
   "execution_count": null,
   "metadata": {},
   "outputs": [],
   "source": [
    "event.GetEnergyDepoWithDesendents(2), event.GetEnergyDepoWithAncestor(2)"
   ]
  },
  {
   "cell_type": "code",
   "execution_count": null,
   "metadata": {},
   "outputs": [],
   "source": [
    "event.PrintTracks(0,10)"
   ]
  },
  {
   "cell_type": "code",
   "execution_count": 3,
   "metadata": {},
   "outputs": [
    {
     "name": "stdout",
     "output_type": "stream",
     "text": [
      "neutrino 14: 1500.0 MeV\n",
      "vertex @: (0.0, 0.0, 0.0) [mm]\n",
      "reaction: nu:14;tgt:1000180400;N:2112;proc:Weak[CC],QES;\n",
      "     pdg    name trkId      mass        KE\n",
      "                           [MeV]     [MeV]\n",
      "------------------------------------------\n",
      "      13     mu-     0    105.66   1349.07\n",
      "    2212  proton     1    938.27      6.83\n",
      "------------------------------------------\n",
      "{'E_nu': 1500.0, 'E_avail': 1461.5615579403232, 'E_list': array([1454.72872607,    6.83283187,    0.        ,    0.        ,\n",
      "          0.        ,    0.        ]), 'E_depoTotal': 1361.2078480981459, 'E_depoList': array([1354.37501004,    6.83283806,    0.        ,    0.        ,\n",
      "          0.        ,    0.        ]), 'nu_pdg': 14, 'nu_xs': 2.0837877293473525e-35, 'nu_proc': 11, 'nu_nucl': 2112}\n"
     ]
    }
   ],
   "source": [
    "event.PrintVertex()"
   ]
  },
  {
   "cell_type": "code",
   "execution_count": null,
   "metadata": {},
   "outputs": [],
   "source": [
    "event.vertex.GetWeight()"
   ]
  },
  {
   "cell_type": "code",
   "execution_count": null,
   "metadata": {},
   "outputs": [],
   "source": [
    "event.tracks[154].association['children']"
   ]
  },
  {
   "cell_type": "code",
   "execution_count": null,
   "metadata": {},
   "outputs": [],
   "source": [
    "event.tracks[2].association"
   ]
  },
  {
   "cell_type": "code",
   "execution_count": null,
   "metadata": {},
   "outputs": [],
   "source": [
    "event.Next()"
   ]
  },
  {
   "cell_type": "code",
   "execution_count": null,
   "metadata": {},
   "outputs": [],
   "source": [
    "event.PrintVertex()"
   ]
  },
  {
   "cell_type": "code",
   "execution_count": null,
   "metadata": {},
   "outputs": [],
   "source": [
    "event.PrintTrack(0)"
   ]
  },
  {
   "cell_type": "code",
   "execution_count": null,
   "metadata": {},
   "outputs": [],
   "source": [
    "event.depos[0].GetTrackLength()"
   ]
  },
  {
   "cell_type": "code",
   "execution_count": null,
   "metadata": {},
   "outputs": [],
   "source": [
    "event.depos[0].GetEnergyDeposit()"
   ]
  },
  {
   "cell_type": "code",
   "execution_count": null,
   "metadata": {},
   "outputs": [],
   "source": [
    "p.ee[:100]"
   ]
  },
  {
   "cell_type": "code",
   "execution_count": null,
   "metadata": {},
   "outputs": [],
   "source": [
    "import matplotlib.pyplot as plt\n"
   ]
  },
  {
   "cell_type": "code",
   "execution_count": null,
   "metadata": {},
   "outputs": [],
   "source": [
    "plt.hist(p.ee, range=(0,4), bins=100)\n"
   ]
  },
  {
   "cell_type": "code",
   "execution_count": null,
   "metadata": {},
   "outputs": [],
   "source": [
    "plt.hist(p.ll, range=(0,0.5), bins=100)"
   ]
  },
  {
   "cell_type": "code",
   "execution_count": null,
   "metadata": {},
   "outputs": [],
   "source": [
    "p.ee[:100], p.ll[:100]"
   ]
  }
 ],
 "metadata": {
  "kernelspec": {
   "display_name": "Python 3",
   "language": "python",
   "name": "python3"
  },
  "language_info": {
   "codemirror_mode": {
    "name": "ipython",
    "version": 3
   },
   "file_extension": ".py",
   "mimetype": "text/x-python",
   "name": "python",
   "nbconvert_exporter": "python",
   "pygments_lexer": "ipython3",
   "version": "3.6.5"
  }
 },
 "nbformat": 4,
 "nbformat_minor": 2
}
